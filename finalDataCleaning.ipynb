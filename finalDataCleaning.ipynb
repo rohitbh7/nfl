{
 "cells": [
  {
   "cell_type": "code",
   "execution_count": 141,
   "metadata": {},
   "outputs": [],
   "source": [
    "import os \n",
    "import numpy as np \n",
    "import pandas as pd \n",
    "import seaborn as sns \n",
    "import matplotlib.pyplot as plt"
   ]
  },
  {
   "cell_type": "code",
   "execution_count": 142,
   "metadata": {},
   "outputs": [],
   "source": [
    "plays = pd.read_csv('plays.csv')\n",
    "players = pd.read_csv('players.csv')\n",
    "playerplay = pd.read_csv('player_play.csv')\n",
    "df = pd.read_csv('tracking_week_1.csv')"
   ]
  },
  {
   "cell_type": "code",
   "execution_count": 143,
   "metadata": {},
   "outputs": [],
   "source": [
    "playscols = ['gameId','playId', 'possessionTeam','defensiveTeam','quarter', 'down', 'yardsToGo', 'offenseFormation', 'receiverAlignment','passResult','playAction', 'timeToThrow','pff_passCoverage','pff_manZone']"
   ]
  },
  {
   "cell_type": "code",
   "execution_count": 144,
   "metadata": {},
   "outputs": [],
   "source": [
    "filteredplays = plays.loc[(plays['passResult'].notna())&(plays['pff_manZone']==\"Man\"), playscols]"
   ]
  },
  {
   "cell_type": "code",
   "execution_count": 145,
   "metadata": {},
   "outputs": [],
   "source": [
    "playerplayscols = ['gameId', 'playId', 'nflId','teamAbbr','inMotionAtBallSnap', 'motionSinceLineset', 'routeRan', 'hadPassReception', 'receivingYards']"
   ]
  },
  {
   "cell_type": "code",
   "execution_count": 146,
   "metadata": {},
   "outputs": [],
   "source": [
    "filteredplayerplay = playerplay[playerplayscols][playerplay['routeRan'].notna()]"
   ]
  },
  {
   "cell_type": "code",
   "execution_count": 147,
   "metadata": {},
   "outputs": [],
   "source": [
    "merged_playerplay = pd.merge(\n",
    "    filteredplays,\n",
    "    filteredplayerplay[['gameId','playId','nflId','inMotionAtBallSnap','motionSinceLineset','routeRan','hadPassReception','receivingYards']],\n",
    "    how='inner',\n",
    "    left_on=['gameId', 'playId'],\n",
    "    right_on=['gameId', 'playId']\n",
    ")"
   ]
  },
  {
   "cell_type": "code",
   "execution_count": 148,
   "metadata": {},
   "outputs": [],
   "source": [
    "route_runners = playerplay[playerplay['routeRan'].notna()][['gameId', 'playId', 'nflId', 'routeRan']]\n",
    "defenders = playerplay[playerplay['pff_primaryDefensiveCoverageMatchupNflId'].notna()][['gameId', 'playId', 'nflId', 'pff_primaryDefensiveCoverageMatchupNflId']]\n",
    "defenders = defenders.rename(columns={'pff_primaryDefensiveCoverageMatchupNflId': 'routeRunnerId'})"
   ]
  },
  {
   "cell_type": "code",
   "execution_count": 149,
   "metadata": {},
   "outputs": [],
   "source": [
    "merged_df = defenders.merge(route_runners, left_on=['gameId', 'playId', 'routeRunnerId'], right_on=['gameId', 'playId', 'nflId'])"
   ]
  },
  {
   "cell_type": "code",
   "execution_count": 150,
   "metadata": {},
   "outputs": [
    {
     "data": {
      "text/html": [
       "<div>\n",
       "<style scoped>\n",
       "    .dataframe tbody tr th:only-of-type {\n",
       "        vertical-align: middle;\n",
       "    }\n",
       "\n",
       "    .dataframe tbody tr th {\n",
       "        vertical-align: top;\n",
       "    }\n",
       "\n",
       "    .dataframe thead th {\n",
       "        text-align: right;\n",
       "    }\n",
       "</style>\n",
       "<table border=\"1\" class=\"dataframe\">\n",
       "  <thead>\n",
       "    <tr style=\"text-align: right;\">\n",
       "      <th></th>\n",
       "      <th>gameId</th>\n",
       "      <th>playId</th>\n",
       "      <th>defenderId</th>\n",
       "      <th>routeRunnerId</th>\n",
       "      <th>routeRan</th>\n",
       "    </tr>\n",
       "  </thead>\n",
       "  <tbody>\n",
       "    <tr>\n",
       "      <th>0</th>\n",
       "      <td>2022090800</td>\n",
       "      <td>56</td>\n",
       "      <td>38577</td>\n",
       "      <td>47879.0</td>\n",
       "      <td>IN</td>\n",
       "    </tr>\n",
       "    <tr>\n",
       "      <th>1</th>\n",
       "      <td>2022090800</td>\n",
       "      <td>56</td>\n",
       "      <td>53532</td>\n",
       "      <td>47879.0</td>\n",
       "      <td>IN</td>\n",
       "    </tr>\n",
       "    <tr>\n",
       "      <th>2</th>\n",
       "      <td>2022090800</td>\n",
       "      <td>56</td>\n",
       "      <td>43294</td>\n",
       "      <td>42489.0</td>\n",
       "      <td>IN</td>\n",
       "    </tr>\n",
       "    <tr>\n",
       "      <th>3</th>\n",
       "      <td>2022090800</td>\n",
       "      <td>56</td>\n",
       "      <td>47844</td>\n",
       "      <td>44985.0</td>\n",
       "      <td>OUT</td>\n",
       "    </tr>\n",
       "    <tr>\n",
       "      <th>4</th>\n",
       "      <td>2022090800</td>\n",
       "      <td>122</td>\n",
       "      <td>38577</td>\n",
       "      <td>47857.0</td>\n",
       "      <td>FLAT</td>\n",
       "    </tr>\n",
       "    <tr>\n",
       "      <th>...</th>\n",
       "      <td>...</td>\n",
       "      <td>...</td>\n",
       "      <td>...</td>\n",
       "      <td>...</td>\n",
       "      <td>...</td>\n",
       "    </tr>\n",
       "    <tr>\n",
       "      <th>39916</th>\n",
       "      <td>2022110700</td>\n",
       "      <td>3480</td>\n",
       "      <td>42361</td>\n",
       "      <td>54476.0</td>\n",
       "      <td>GO</td>\n",
       "    </tr>\n",
       "    <tr>\n",
       "      <th>39917</th>\n",
       "      <td>2022110700</td>\n",
       "      <td>3480</td>\n",
       "      <td>46077</td>\n",
       "      <td>46160.0</td>\n",
       "      <td>IN</td>\n",
       "    </tr>\n",
       "    <tr>\n",
       "      <th>39918</th>\n",
       "      <td>2022110700</td>\n",
       "      <td>3480</td>\n",
       "      <td>52627</td>\n",
       "      <td>46160.0</td>\n",
       "      <td>IN</td>\n",
       "    </tr>\n",
       "    <tr>\n",
       "      <th>39919</th>\n",
       "      <td>2022110700</td>\n",
       "      <td>3480</td>\n",
       "      <td>52436</td>\n",
       "      <td>52942.0</td>\n",
       "      <td>OUT</td>\n",
       "    </tr>\n",
       "    <tr>\n",
       "      <th>39920</th>\n",
       "      <td>2022110700</td>\n",
       "      <td>3480</td>\n",
       "      <td>53533</td>\n",
       "      <td>53098.0</td>\n",
       "      <td>IN</td>\n",
       "    </tr>\n",
       "  </tbody>\n",
       "</table>\n",
       "<p>39921 rows × 5 columns</p>\n",
       "</div>"
      ],
      "text/plain": [
       "           gameId  playId  defenderId  routeRunnerId routeRan\n",
       "0      2022090800      56       38577        47879.0       IN\n",
       "1      2022090800      56       53532        47879.0       IN\n",
       "2      2022090800      56       43294        42489.0       IN\n",
       "3      2022090800      56       47844        44985.0      OUT\n",
       "4      2022090800     122       38577        47857.0     FLAT\n",
       "...           ...     ...         ...            ...      ...\n",
       "39916  2022110700    3480       42361        54476.0       GO\n",
       "39917  2022110700    3480       46077        46160.0       IN\n",
       "39918  2022110700    3480       52627        46160.0       IN\n",
       "39919  2022110700    3480       52436        52942.0      OUT\n",
       "39920  2022110700    3480       53533        53098.0       IN\n",
       "\n",
       "[39921 rows x 5 columns]"
      ]
     },
     "execution_count": 150,
     "metadata": {},
     "output_type": "execute_result"
    }
   ],
   "source": [
    "merged_df.drop(columns=['nflId_y'], inplace=True)\n",
    "merged_df.rename(columns={'nflId_x':'defenderId'}, inplace=True)\n",
    "merged_df"
   ]
  },
  {
   "cell_type": "code",
   "execution_count": 151,
   "metadata": {},
   "outputs": [],
   "source": [
    "merged_df = pd.merge(\n",
    "    merged_df,\n",
    "    plays[['gameId','playId','pff_manZone']],\n",
    "    how = \"left\",\n",
    "    left_on = ['gameId','playId'],\n",
    "    right_on = ['gameId','playId']\n",
    ")"
   ]
  },
  {
   "cell_type": "code",
   "execution_count": 152,
   "metadata": {},
   "outputs": [],
   "source": [
    "merged_df = merged_df[merged_df['pff_manZone']==\"Man\"]"
   ]
  },
  {
   "cell_type": "code",
   "execution_count": 153,
   "metadata": {},
   "outputs": [],
   "source": [
    "week1 = pd.merge(\n",
    "    merged_playerplay,\n",
    "    merged_df,\n",
    "    how = 'right',\n",
    "    left_on=['gameId','playId','nflId'],\n",
    "    right_on=['gameId','playId','routeRunnerId']\n",
    ")"
   ]
  },
  {
   "cell_type": "code",
   "execution_count": 154,
   "metadata": {},
   "outputs": [],
   "source": [
    "week1 = pd.merge(\n",
    "    week1,\n",
    "    players[['nflId','position']],\n",
    "    how = 'left',\n",
    "    left_on=['routeRunnerId'],\n",
    "    right_on=['nflId']\n",
    ")"
   ]
  },
  {
   "cell_type": "code",
   "execution_count": 155,
   "metadata": {},
   "outputs": [],
   "source": [
    "startingpos = df[['gameId','playId','nflId','event','x','y']][(df['event']==\"ball_snap\")]"
   ]
  },
  {
   "cell_type": "code",
   "execution_count": 156,
   "metadata": {},
   "outputs": [],
   "source": [
    "week1 = pd.merge(\n",
    "    week1,\n",
    "    startingpos[['gameId','playId','nflId','x','y']],\n",
    "    how='left',\n",
    "    left_on=['gameId','playId','routeRunnerId'],\n",
    "    right_on=['gameId','playId','nflId']\n",
    ")"
   ]
  },
  {
   "cell_type": "code",
   "execution_count": 157,
   "metadata": {},
   "outputs": [],
   "source": [
    "week1motion = pd.read_csv('week1motion.csv')"
   ]
  },
  {
   "cell_type": "code",
   "execution_count": 158,
   "metadata": {},
   "outputs": [],
   "source": [
    "cluster_means = week1motion.groupby('cluster').agg(\n",
    "    first_mean=('first', 'mean'),\n",
    "    last_mean=('last', 'mean'),\n",
    "    direction_change_mean=('direction_change', 'mean'),\n",
    "    move_at_snap_mean=('inMotionAtBallSnap','mean'),\n",
    "    count=('first', 'size')\n",
    ")"
   ]
  },
  {
   "cell_type": "code",
   "execution_count": 159,
   "metadata": {},
   "outputs": [],
   "source": [
    "week1man = pd.merge(\n",
    "    week1[['gameId', 'playId', 'possessionTeam', 'defensiveTeam', 'quarter',\n",
    "       'down', 'yardsToGo', 'offenseFormation', 'receiverAlignment',\n",
    "       'passResult', 'playAction', 'timeToThrow', 'pff_passCoverage',\n",
    "       'pff_manZone_x', 'inMotionAtBallSnap', 'motionSinceLineset',\n",
    "       'routeRan_x', 'hadPassReception', 'receivingYards', 'routeRunnerId',\n",
    "       'defenderId', 'position', 'x','y']],\n",
    "    week1motion[['gameId','playId','nflId','cluster']],\n",
    "    how = \"left\",\n",
    "    left_on = ['gameId','playId','routeRunnerId'],\n",
    "    right_on = ['gameId','playId','nflId']\n",
    ")"
   ]
  },
  {
   "cell_type": "code",
   "execution_count": 160,
   "metadata": {},
   "outputs": [],
   "source": [
    "linesetDefender = pd.read_csv(\"linesetDefender.csv\")"
   ]
  },
  {
   "cell_type": "code",
   "execution_count": 161,
   "metadata": {},
   "outputs": [],
   "source": [
    "week1man = pd.merge(\n",
    "    week1man,\n",
    "    linesetDefender,\n",
    "    how=\"left\",\n",
    "    left_on = ['gameId','playId','routeRunnerId'],\n",
    "    right_on = ['gameId','playId','routeRunnerId']\n",
    ")"
   ]
  },
  {
   "cell_type": "code",
   "execution_count": 162,
   "metadata": {},
   "outputs": [],
   "source": [
    "weekOneVoronoi = pd.read_csv('voronoiWeekOne.csv')"
   ]
  },
  {
   "cell_type": "code",
   "execution_count": 203,
   "metadata": {},
   "outputs": [],
   "source": [
    "weekone = pd.merge(\n",
    "    week1man,\n",
    "    weekOneVoronoi,\n",
    "    how = 'right',\n",
    "    left_on = ['gameId','playId','routeRunnerId'],\n",
    "    right_on = ['gameId','playId','routeRunnerId']\n",
    ")"
   ]
  },
  {
   "cell_type": "code",
   "execution_count": 204,
   "metadata": {},
   "outputs": [],
   "source": [
    "weekone.drop(columns=['passResult', 'quarter','possessionTeam','defensiveTeam','hadPassReception','receivingYards','nflId','Unnamed: 0','timeToThrow_y','nflId_x', 'position_y','nflId_y','routeRan_x'], inplace=True)"
   ]
  },
  {
   "cell_type": "code",
   "execution_count": 205,
   "metadata": {},
   "outputs": [],
   "source": [
    "weekone = pd.merge(\n",
    "    weekone,\n",
    "    df[['gameId','playId','frameId','nflId','s','a']],\n",
    "    how = \"left\",\n",
    "    left_on = ['gameId','playId','frameId','routeRunnerId'],\n",
    "    right_on = ['gameId','playId','frameId','nflId']\n",
    ")"
   ]
  },
  {
   "cell_type": "code",
   "execution_count": 207,
   "metadata": {},
   "outputs": [],
   "source": [
    "weekone.drop(columns=['gameId','playId','frameId'],inplace=True)"
   ]
  },
  {
   "cell_type": "code",
   "execution_count": 209,
   "metadata": {},
   "outputs": [],
   "source": [
    "weekone = pd.merge(\n",
    "    weekone,\n",
    "    players[['nflId','position']],\n",
    "    how=\"left\",\n",
    "    left_on=['defenderId'],\n",
    "    right_on = ['nflId']\n",
    ")"
   ]
  },
  {
   "cell_type": "code",
   "execution_count": 211,
   "metadata": {},
   "outputs": [],
   "source": [
    "weekone.rename(columns={\n",
    "    'position_x': 'routeRunnerPosition',\n",
    "    'position': 'atSnapDefenderPosition',\n",
    "    'timeSinceSnap': 'timeOfMaxSeparation',\n",
    "    'cluster': 'motionCluster',\n",
    "    'timeToThrow_x': 'timeToThrow',\n",
    "    'presnapDefenderId': 'preMotionDefenderId',\n",
    "    'presnapDefenderPosition': 'preMotionDefenderPosition',\n",
    "    'pff_manZone_x': 'pff_manZone',\n",
    "    'defenderId': 'atSnapDefenderId'\n",
    "}, inplace=True)"
   ]
  },
  {
   "cell_type": "code",
   "execution_count": 213,
   "metadata": {},
   "outputs": [],
   "source": [
    "weekone.drop(columns=['nflId_x','nflId_y'],inplace=True)"
   ]
  },
  {
   "cell_type": "code",
   "execution_count": 215,
   "metadata": {},
   "outputs": [],
   "source": [
    "column_order = [\n",
    "    'routeRunnerId',\n",
    "    'routeRunnerPosition',\n",
    "    'x',\n",
    "    'y',\n",
    "    'motionCluster',\n",
    "    's',\n",
    "    'a',\n",
    "    'atSnapDefenderId',  # Move nflId_defender to 4th\n",
    "    'atSnapDefenderPosition',\n",
    "    'preMotionDefenderId', \n",
    "    'preMotionDefenderPosition',\n",
    "    'down', \n",
    "    'yardsToGo', \n",
    "    'offenseFormation', \n",
    "    'receiverAlignment',\n",
    "    'playAction', \n",
    "    'timeToThrow', \n",
    "    'pff_passCoverage', \n",
    "    'pff_manZone', \n",
    "    'inMotionAtBallSnap', \n",
    "    'motionSinceLineset', \n",
    "    'routeRan', \n",
    "    'absoluteYardlineNumber',\n",
    "    'timeOfMaxSeparation',\n",
    "    'maxValueOfSeparation'\n",
    "]"
   ]
  },
  {
   "cell_type": "code",
   "execution_count": 216,
   "metadata": {},
   "outputs": [],
   "source": [
    "weekone = weekone[column_order]"
   ]
  },
  {
   "cell_type": "code",
   "execution_count": 221,
   "metadata": {},
   "outputs": [],
   "source": [
    "weekone.drop(columns=['routeRunnerId','atSnapDefenderId','preMotionDefenderId'],inplace=True)"
   ]
  },
  {
   "cell_type": "code",
   "execution_count": 224,
   "metadata": {},
   "outputs": [],
   "source": [
    "weekone.to_csv(\"weekone.csv\")"
   ]
  }
 ],
 "metadata": {
  "kernelspec": {
   "display_name": "Python 3",
   "language": "python",
   "name": "python3"
  },
  "language_info": {
   "codemirror_mode": {
    "name": "ipython",
    "version": 3
   },
   "file_extension": ".py",
   "mimetype": "text/x-python",
   "name": "python",
   "nbconvert_exporter": "python",
   "pygments_lexer": "ipython3",
   "version": "3.12.0"
  }
 },
 "nbformat": 4,
 "nbformat_minor": 2
}
